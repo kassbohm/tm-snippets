{
  "nbformat_minor": 1, 
  "nbformat": 4, 
  "cells": [
    {
      "source": [
        "from sympy import *\n", 
        "\n", 
        "# Parameters:\n", 
        "a0, a1, a2 = var(\"a0, a1, a2\")\n", 
        "\n", 
        "# Quadratic Function:\n", 
        "pprint(\"\\ny(x):\")\n", 
        "x = var(\"x\")\n", 
        "y = a0 + a1*x + a2*x**2\n", 
        "pprint(y)\n", 
        "\n", 
        "pprint(\"\\n2 statements for (a0, a1, a2):\")\n", 
        "\n", 
        "# First statement:\n", 
        "# y(x=0) = 0\n", 
        "# 0 = a0 + a1*0 + a2*0\n", 
        "# 0 = a0\n", 
        "eq1 = Eq(y.subs(x,0), 0)\n", 
        "pprint(eq1)\n", 
        "\n", 
        "# Second statement:\n", 
        "# y'(x=0) = 0\n", 
        "# 0 = a1 + a2*0\n", 
        "# 0 = a1\n", 
        "eq2 = Eq(diff(y,x).subs(x,0), 0)\n", 
        "pprint(eq2)\n", 
        "\n", 
        "\n"
      ], 
      "cell_type": "code", 
      "execution_count": null, 
      "outputs": [], 
      "metadata": {}
    }
  ], 
  "metadata": {
    "kernelspec": {
      "display_name": "Python 3", 
      "name": "python3", 
      "language": "python"
    }, 
    "language_info": {
      "mimetype": "text/x-python", 
      "nbconvert_exporter": "python", 
      "name": "python", 
      "file_extension": ".py", 
      "version": "3.6.1", 
      "pygments_lexer": "ipython3", 
      "codemirror_mode": {
        "version": 3, 
        "name": "ipython"
      }
    }, 
    "anaconda-cloud": {}
  }
}