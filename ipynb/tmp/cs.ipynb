{
  "nbformat_minor": 1, 
  "nbformat": 4, 
  "cells": [
    {
      "source": [
        "from sympy import *\n", 
        "\n", 
        "# Parameters:\n", 
        "pprint(\"\\n3 parameters/unknowns (a0, a1, a2):\")\n", 
        "a0, a1, a2 = var(\"a0, a1, a2\")\n", 
        "pprint(a0)\n", 
        "pprint(a1)\n", 
        "pprint(a2)\n", 
        "\n", 
        "pprint(\"\\nA quadratic function y(x):\")\n", 
        "x = var(\"x\")\n", 
        "y = a0 + a1*x + a2*x**2\n", 
        "pprint(y)\n", 
        "\n", 
        "pprint(\"\\nTwo statements for (a0, a1, a2):\")\n", 
        "\n", 
        "pprint(\"\\ny(x=0) = 0:\")\n", 
        "# 0 = a0 + a1*0 + a2*0\n", 
        "# 0 = a0\n", 
        "eq1 = Eq(y.subs(x,0), 0)\n", 
        "pprint(eq1)\n", 
        "\n", 
        "pprint(\"\\ny'(x=0) = 0:\")\n", 
        "# 0 = a1 + a2*0\n", 
        "# 0 = a1\n", 
        "eq2 = Eq(diff(y,x).subs(x,0), 0)\n", 
        "pprint(eq2)\n", 
        "\n", 
        "\n", 
        "# 3 parameters/unknowns (a0, a1, a2):\n", 
        "# a\u2080\n", 
        "# a\u2081\n", 
        "# a\u2082\n", 
        "#\n", 
        "# A quadratic function y(x):\n", 
        "#                 2\n", 
        "# a\u2080 + a\u2081\u22c5x + a\u2082\u22c5x\n", 
        "#\n", 
        "# Two statements for (a0, a1, a2):\n", 
        "#\n", 
        "# y(x=0) = 0:\n", 
        "# a\u2080 = 0\n", 
        "#\n", 
        "# y'(x=0) = 0:\n", 
        "# a\u2081 = 0\n"
      ], 
      "cell_type": "code", 
      "execution_count": null, 
      "outputs": [], 
      "metadata": {}
    }
  ], 
  "metadata": {
    "kernelspec": {
      "display_name": "Python 3", 
      "name": "python3", 
      "language": "python"
    }, 
    "language_info": {
      "mimetype": "text/x-python", 
      "nbconvert_exporter": "python", 
      "name": "python", 
      "file_extension": ".py", 
      "version": "3.6.1", 
      "pygments_lexer": "ipython3", 
      "codemirror_mode": {
        "version": 3, 
        "name": "ipython"
      }
    }, 
    "anaconda-cloud": {}
  }
}