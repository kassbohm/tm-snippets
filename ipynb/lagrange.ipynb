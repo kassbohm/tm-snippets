{
  "nbformat_minor": 1, 
  "nbformat": 4, 
  "cells": [
    {
      "source": [
        "from sympy.physics.units import *\n", 
        "from sympy import *\n", 
        "\n", 
        "x = var(\"x\")\n", 
        "l = var(\"l\")\n", 
        "\n", 
        "(x0, x1, x2) = (0, l/2, l)\n", 
        "\n", 
        "L0  = (x  - x1)*(x  - x2)\n", 
        "L0 /= (x0 - x1)*(x0 - x2)\n", 
        "\n", 
        "L1  = (x  - x0)*(x  - x2)\n", 
        "L1 /= (x1 - x0)*(x1 - x2)\n", 
        "\n", 
        "L2  = (x  - x0)*(x  - x1)\n", 
        "L2 /= (x2 - x0)*(x2 - x1)\n", 
        "\n", 
        "pprint(\"\\nShape Functions:\")\n", 
        "for Li in [L0, L1, L2]:\n", 
        "    Li = Li.simplify()\n", 
        "    pprint(Li)\n", 
        "    I = integrate(Li, (x, 0, l))\n", 
        "    pprint(I)\n", 
        "    # pprint(\"\\nChecking x=0, x=l/2, x=l:\")\n", 
        "    # pprint(Li.subs(x,0))\n", 
        "    # pprint(Li.subs(x,L/2))\n", 
        "    # pprint(Li.subs(x,L))\n", 
        "\n", 
        "L0p = diff(L0,x)\n", 
        "L1p = diff(L1,x)\n", 
        "L2p = diff(L2,x)\n", 
        "\n", 
        "pprint(\"\\nDerivatives of Shape Functions:\")\n", 
        "for Lip in [L0p, L1p, L2p]:\n", 
        "    Lip = Lip.simplify()\n", 
        "    pprint(Lip)\n", 
        "\n", 
        "pprint(\"\\nFind entry of Stiffness Matrix:\")\n", 
        "tmp = L2p*L2p\n", 
        "tmp = integrate(tmp, (x, 0, l))\n", 
        "pprint(tmp)\n"
      ], 
      "cell_type": "code", 
      "execution_count": null, 
      "outputs": [], 
      "metadata": {}
    }
  ], 
  "metadata": {
    "kernelspec": {
      "display_name": "Python 3", 
      "name": "python3", 
      "language": "python"
    }, 
    "language_info": {
      "mimetype": "text/x-python", 
      "nbconvert_exporter": "python", 
      "name": "python", 
      "file_extension": ".py", 
      "version": "3.6.1", 
      "pygments_lexer": "ipython3", 
      "codemirror_mode": {
        "version": 3, 
        "name": "ipython"
      }
    }, 
    "anaconda-cloud": {}
  }
}