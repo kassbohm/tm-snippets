{
  "nbformat_minor": 1, 
  "nbformat": 4, 
  "cells": [
    {
      "source": [
        "from sympy.physics.units import *\n", 
        "from sympy import *\n", 
        "\n", 
        "def k(phi):\n", 
        "    \"\"\" element stiffness matrix \"\"\"\n", 
        "    # phi: Angle between two rays 1 and 2:\n", 
        "    # 1: ray along global x axis and\n", 
        "    # 2: ray along 1-2-axis of rod\n", 
        "    # phi is counted positively about z.\n", 
        "    (c, s) = ( cos(phi), sin(phi) )\n", 
        "    (cc, ss, sc) = ( c*c, s*s, s*c)\n", 
        "    return Matrix(\n", 
        "        [\n", 
        "        [ cc,  sc, -cc, -sc],\n", 
        "        [ sc,  ss, -sc, -ss],\n", 
        "        [-cc, -sc,  cc,  sc],\n", 
        "        [-sc, -ss,  sc,  ss],\n", 
        "        ])\n", 
        "\n", 
        "F, c = var(\"F, c\")\n", 
        "\n", 
        "# Stiffness Matrix:\n", 
        "k1 = c*k(135 *pi/180)\n", 
        "pprint(\"\\n\\nk1 / c: \")\n", 
        "pprint(k1/c)\n", 
        "\n", 
        "# Linear System:\n", 
        "u, F1x, F2x, F2y = var(\"u, F1x, F2x, F2y\")\n", 
        "f_ = Matrix([F1x, -F/2, F2x, F2y])\n", 
        "u_ = Matrix([0, -u, 0, 0])\n", 
        "\n", 
        "sol = solve(Eq(k1*u_,f_), [u, F1x, F2x, F2y], dict=True)\n", 
        "pprint(\"\\n\\nSolution:\")\n", 
        "pprint(sol[0])\n", 
        "\n", 
        "# k1 / c:\n", 
        "# \u23a11/2   -1/2  -1/2  1/2 \u23a4\n", 
        "# \u23a2                      \u23a5\n", 
        "# \u23a2-1/2  1/2   1/2   -1/2\u23a5\n", 
        "# \u23a2                      \u23a5\n", 
        "# \u23a2-1/2  1/2   1/2   -1/2\u23a5\n", 
        "# \u23a2                      \u23a5\n", 
        "# \u23a31/2   -1/2  -1/2  1/2 \u23a6\n", 
        "#\n", 
        "#\n", 
        "# Solution:\n", 
        "# \u23a7     F       -F        F     F\u23ab\n", 
        "# \u23a8F1x: \u2500, F2x: \u2500\u2500\u2500, F2y: \u2500, u: \u2500\u23ac\n", 
        "# \u23a9     2        2        2     c\u23ad\n"
      ], 
      "cell_type": "code", 
      "execution_count": null, 
      "outputs": [], 
      "metadata": {}
    }
  ], 
  "metadata": {
    "kernelspec": {
      "display_name": "Python 3", 
      "name": "python3", 
      "language": "python"
    }, 
    "language_info": {
      "mimetype": "text/x-python", 
      "nbconvert_exporter": "python", 
      "name": "python", 
      "file_extension": ".py", 
      "version": "3.6.1", 
      "pygments_lexer": "ipython3", 
      "codemirror_mode": {
        "version": 3, 
        "name": "ipython"
      }
    }, 
    "anaconda-cloud": {}
  }
}