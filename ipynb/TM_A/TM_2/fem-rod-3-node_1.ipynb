{
  "cells": [
    {
      "cell_type": "code",
      "metadata": {},
      "source": [
        "# https://colab.research.google.com/github/kassbohm/tm-snippets/blob/master/ipynb/TM_A/TM_2/fem-rod-3-node_1.ipynb\n",
        "\n",
        "from sympy.physics.units import *\n",
        "from sympy import *\n",
        "from numpy import linspace, array\n",
        "\n",
        "l, E, A, q = var(\"l, E, A, q\")\n",
        "\n",
        "x = var(\"x\")\n",
        "\n",
        "S = q*(l-x)\n",
        "sigma = S/A\n",
        "\n",
        "pprint(\"\\nu1:\")\n",
        "u1 = 1/E * integrate(sigma, (x, 0, l/2))\n",
        "tmp = u1\n",
        "pprint(tmp)\n",
        "\n",
        "pprint(\"\\nu2:\")\n",
        "u2 = 1/E * integrate(sigma, (x, 0, l))\n",
        "tmp = u2\n",
        "pprint(tmp)\n",
        "\n",
        "# u1:\n",
        "#    2\n",
        "# 3\u22c5l \u22c5q\n",
        "# \u2500\u2500\u2500\u2500\u2500\u2500\n",
        "# 8\u22c5A\u22c5E\n",
        "#\n",
        "# u2:\n",
        "#   2\n",
        "#  l \u22c5q\n",
        "# \u2500\u2500\u2500\u2500\u2500\n",
        "# 2\u22c5A\u22c5E\n"
      ],
      "outputs": [],
      "execution_count": null
    }
  ],
  "metadata": {
    "anaconda-cloud": {},
    "kernelspec": {
      "display_name": "Python 3",
      "language": "python",
      "name": "python3"
    },
    "language_info": {
      "codemirror_mode": {
        "name": "ipython",
        "version": 3
      },
      "file_extension": ".py",
      "mimetype": "text/x-python",
      "name": "python",
      "nbconvert_exporter": "python",
      "pygments_lexer": "ipython3",
      "version": "3.6.1"
    }
  },
  "nbformat": 4,
  "nbformat_minor": 1
}