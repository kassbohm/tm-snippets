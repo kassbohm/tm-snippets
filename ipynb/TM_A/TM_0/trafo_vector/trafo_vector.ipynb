{
  "cells": [
    {
      "cell_type": "code",
      "metadata": {},
      "source": [
        "# https://colab.research.google.com/github/kassbohm/tm-snippets/blob/master/ipynb/TM_A/TM_0/trafo_tensor/trafo_tensor_0_cc.ipynb\n",
        "\n",
        "\"\"\"\n",
        "    Input:\n",
        "\n",
        "    * (x,y)-Components of Vector.\n",
        "    * Angular Position phi.\n",
        "    * Output Precision prec.\n",
        "\n",
        "    Output:\n",
        "    * (\\bar x, \\bar y)`-Components for given phi.\n",
        "\n",
        "\"\"\"\n",
        "# User input starts here.\n",
        "\n",
        "# Vector components in their resp. unit:\n",
        "(vx, vy)  = (1, 2)\n",
        "\n",
        "# Angle in deg:\n",
        "phi = 30\n",
        "prec = 0.01\n",
        "\n",
        "\n",
        "# User input ends here.\n",
        "\n",
        "f = lambda x: iso_round(x,prec)\n",
        "\n",
        "print(u'\\nComponents wrt (x, y):')\n",
        "V = Matrix( [vx, vy] )\n",
        "pprint(V)\n",
        "\n",
        "print(u\"\\nComponents wrt (x\\u0304, y\\u0304)\", end=\"\")\n",
        "print(\" for \u03c6 = \", end=\"\")\n",
        "print(iso_round(phi,prec), end=\"\")\n",
        "print(\" deg:\")\n",
        "\n",
        "phi *= pi/180\n",
        "c, s = cos(phi), sin(phi)\n",
        "R = Matrix([ [c, s] , [-s, c] ])\n",
        "Rt = R.transpose()\n",
        "tmp = R*V\n",
        "tmp = tmp.applyfunc(f)\n",
        "pprint(tmp)\n",
        "\n",
        "pprint(\"\\nr:\")\n",
        "tmp = sqrt(vx*vx + vy*vy)\n",
        "pprint(tmp)\n",
        "\n",
        "pprint(\"\\n(\u03c6\u2081 / deg:\")\n",
        "\n",
        "p1 = 2*atan(vy/(vy+r))\n",
        "p1 *= 180/pi\n",
        "p2 = p1 + 90\n",
        "p = Matrix([iso_round(p1,prec), iso_round(p2,prec)])\n",
        "pprint(p)\n"
      ],
      "outputs": [],
      "execution_count": null
    }
  ],
  "metadata": {
    "anaconda-cloud": {},
    "kernelspec": {
      "display_name": "Python 3",
      "language": "python",
      "name": "python3"
    },
    "language_info": {
      "codemirror_mode": {
        "name": "ipython",
        "version": 3
      },
      "file_extension": ".py",
      "mimetype": "text/x-python",
      "name": "python",
      "nbconvert_exporter": "python",
      "pygments_lexer": "ipython3",
      "version": "3.6.1"
    }
  },
  "nbformat": 4,
  "nbformat_minor": 1
}