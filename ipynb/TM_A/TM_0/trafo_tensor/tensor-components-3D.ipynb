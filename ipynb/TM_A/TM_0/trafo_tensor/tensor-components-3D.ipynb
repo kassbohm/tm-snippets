{
  "cells": [
    {
      "cell_type": "code",
      "metadata": {},
      "source": [
        "# https://colab.research.google.com/github/kassbohm/tm-snippets/blob/master/ipynb/TM_A/TM_0/trafo_tensor/tensor-components-3D.ipynb\n",
        "\n",
        "from sympy.physics.units import *\n",
        "from sympy import *\n",
        "\n",
        "# (i1, i2, i3)-components of symmetric tensor:\n",
        "T11, T12, T13 = -1, 4, 0\n",
        "T22, T23 = 5, 0\n",
        "T33 = 0\n",
        "\n",
        "# (i1, i2, i3)-components of unit vector:\n",
        "d1, d2, d3 = 0, 1, 0\n",
        "\n",
        "pprint(\"\\nInput 1: (i1, i2, i3)-tensor-components:\")\n",
        "T = Matrix([\n",
        "    [T11, T12, T13],\n",
        "    [T12, T22, T23],\n",
        "    [T13, T23, T33]\n",
        "    ])\n",
        "pprint(T)\n",
        "\n",
        "pprint(\"\\nInput 2: (i1, i2, i3)-unit-vector-components:\")\n",
        "d = Matrix([d1, d2, d3])\n",
        "tmp = d.norm()\n",
        "assert(tmp==1)\n",
        "\n",
        "pprint(\"\\nOutput: Tensor-component in unit-vector-direction:\")\n",
        "tmp = d.transpose()*T*d\n",
        "pprint(tmp)\n"
      ],
      "outputs": [],
      "execution_count": null
    }
  ],
  "metadata": {
    "anaconda-cloud": {},
    "kernelspec": {
      "display_name": "Python 3",
      "language": "python",
      "name": "python3"
    },
    "language_info": {
      "codemirror_mode": {
        "name": "ipython",
        "version": 3
      },
      "file_extension": ".py",
      "mimetype": "text/x-python",
      "name": "python",
      "nbconvert_exporter": "python",
      "pygments_lexer": "ipython3",
      "version": "3.6.1"
    }
  },
  "nbformat": 4,
  "nbformat_minor": 1
}