{
  "cells": [
    {
      "cell_type": "code",
      "metadata": {},
      "source": [
        "# https://colab.research.google.com/github/kassbohm/tm-snippets/blob/master/ipynb/TM_A/TM_3/lie.ipynb\n",
        "\n",
        "from sympy import *\n",
        "from sympy.physics.units import *\n",
        "\n",
        "t, l = var(\"t, l\")\n",
        "\n",
        "pprint(\"\\nt=0 s:\")\n",
        "sub_list = [(t, 0*second),]\n",
        "# pprint(\"\\nt=15 s:\")\n",
        "# sub_list = [(t, 15*second),]\n",
        "\n",
        "tt = t / (60 * second)\n",
        "p = 2 * pi * tt\n",
        "l = 10*cm *(1 + tt)\n",
        "\n",
        "C, S = cos(p), sin(p)\n",
        "R = Matrix([\n",
        "    [C, -S, 0],\n",
        "    [S,  C, 0],\n",
        "    [0,  0, 1]\n",
        "    ])\n",
        "\n",
        "vx, vy, vz = l*C, l*S, 0\n",
        "\n",
        "pprint(\"\\n(v'x, v'y, v'z) / (cm/s):\")\n",
        "v = Matrix([vx, vy, vz])\n",
        "tmp = diff(v, t)\n",
        "tmp = tmp.subs(sub_list)\n",
        "tmp /= cm/second\n",
        "pprint(tmp)\n",
        "pprint(latex(tmp))\n",
        "\n",
        "\n",
        "pprint(\"\\n(v'x\u0304, v'y\u0304, v'z\u0304)\")\n",
        "v = Matrix([l, 0, 0])\n",
        "w = Matrix([0, 0, diff(p, t)])\n",
        "tmp = diff(v, t) + w.cross(v)\n",
        "tmp = tmp.subs(sub_list)\n",
        "tmp /= cm/second\n",
        "pprint(tmp)\n",
        "pprint(latex(tmp))\n",
        "pprint(\"\\n(v'x, v'y, v'z) / (cm/s):\")\n",
        "tmp = diff(v, t) + w.cross(v)\n",
        "tmp = R*tmp\n",
        "tmp = tmp.subs(sub_list)\n",
        "tmp /= cm/second\n",
        "pprint(tmp)\n"
      ],
      "outputs": [],
      "execution_count": null
    }
  ],
  "metadata": {
    "anaconda-cloud": {},
    "kernelspec": {
      "display_name": "Python 3",
      "language": "python",
      "name": "python3"
    },
    "language_info": {
      "codemirror_mode": {
        "name": "ipython",
        "version": 3
      },
      "file_extension": ".py",
      "mimetype": "text/x-python",
      "name": "python",
      "nbconvert_exporter": "python",
      "pygments_lexer": "ipython3",
      "version": "3.6.1"
    }
  },
  "nbformat": 4,
  "nbformat_minor": 1
}