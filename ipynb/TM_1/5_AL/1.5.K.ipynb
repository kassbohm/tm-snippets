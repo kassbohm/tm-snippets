{
  "cells": [
    {
      "cell_type": "code",
      "metadata": {},
      "source": [
        "from sympy import *\n",
        "from sympy.physics.units import kg, m, s\n",
        "\n",
        "Newton = kg*m/s**2\n",
        "\n",
        "a, F, q = var(\"a, F, q\")\n",
        "\n",
        "sub_list=[\n",
        "    ( a, 1 *m         ),\n",
        "    ( F, 1 *Newton    ),\n",
        "    ( q, 1 *Newton/m  ),\n",
        "    ]\n",
        "\n",
        "Ah, Av, MA, Bv, Gh, Gv \\\n",
        "    = var(\"Ah, Av, MA, Bv, Gh, Gv\")\n",
        "\n",
        "R = 2*a*q\n",
        "\n",
        "# equilibrium conditions:\n",
        "eq1 = Eq(  Ah + Gh)\n",
        "eq2 = Eq(  Av + Gv)\n",
        "eq3 = Eq(  -MA + a*Gv )\n",
        "eq4 = Eq(  Gh )\n",
        "eq5 = Eq(  Gv + R + F - Bv )\n",
        "eq6 = Eq(  a*(R-Bv) + 2*a*F )\n",
        "\n",
        "unknowns = [Ah, Av, MA, Bv, Gh, Gv]\n",
        "eqs = [eq1, eq2, eq3, eq4, eq5, eq6]\n",
        "\n",
        "sol = solve(eqs, unknowns)\n",
        "pprint(sol)\n",
        "\n",
        "Ah, Av, MA, Bv, Gh, Gv \\\n",
        "    = sol[Ah], sol[Av], sol[MA], sol[Bv], sol[Gh], sol[Gv]\n",
        "\n",
        "pprint(\"\\nAh, Av, Bv, Gh, Gv in terms of symbols and in N:\")\n",
        "for s in [Ah, Av, Bv, Gh, Gv]:\n",
        "    pprint(\"\\n\")\n",
        "    tmp = s\n",
        "    pprint(tmp)\n",
        "    tmp = tmp.subs(sub_list)\n",
        "    tmp /= Newton\n",
        "    pprint(tmp)\n",
        "\n",
        "pprint(\"\\nMA in terms of symbols and in Nm:\")\n",
        "tmp = MA\n",
        "pprint(tmp)\n",
        "tmp = tmp.subs(sub_list)\n",
        "tmp /= Newton*m\n",
        "pprint(tmp)\n"
      ],
      "outputs": [],
      "execution_count": null
    }
  ],
  "metadata": {
    "anaconda-cloud": {},
    "kernelspec": {
      "display_name": "Python 3",
      "language": "python",
      "name": "python3"
    },
    "language_info": {
      "codemirror_mode": {
        "name": "ipython",
        "version": 3
      },
      "file_extension": ".py",
      "mimetype": "text/x-python",
      "name": "python",
      "nbconvert_exporter": "python",
      "pygments_lexer": "ipython3",
      "version": "3.6.1"
    }
  },
  "nbformat": 4,
  "nbformat_minor": 1
}