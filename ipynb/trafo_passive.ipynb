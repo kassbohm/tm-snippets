{
  "nbformat_minor": 1, 
  "nbformat": 4, 
  "cells": [
    {
      "source": [
        "from sympy.physics.units import *\n", 
        "from sympy import *\n", 
        "\n", 
        "phi = var(\"phi\")\n", 
        "c, s = cos(phi), sin(phi)\n", 
        "c, s = var(\"c, s\")\n", 
        "R = Matrix([[c, s],[-s, c]])\n", 
        "sxx, syy, txy = var(\"sigma_{xx}, sigma_{yy}, tau_{xy}\")\n", 
        "\n", 
        "\n", 
        "# ---\n", 
        "\n", 
        "pprint(\"\\nComponents wrt (x,y):\")\n", 
        "e = Matrix([c,s])\n", 
        "et = e.transpose()\n", 
        "S = Matrix([[sxx, txy],[txy, syy]])\n", 
        "\n", 
        "pprint(\"\\ne:\")\n", 
        "tmp = e\n", 
        "pprint(tmp)\n", 
        "pprint(\"\\net:\")\n", 
        "tmp = et\n", 
        "pprint(tmp)\n", 
        "pprint(\"\\nS:\")\n", 
        "tmp = S\n", 
        "pprint(tmp)\n", 
        "\n", 
        "pprint(\"\\n\u03c3:\")\n", 
        "tmp = et*S*e\n", 
        "pprint(tmp)\n", 
        "pprint(latex(tmp))\n", 
        "\n", 
        "# unicode overbar xbar ybar:\n", 
        "# :\n", 
        "pprint(\"\\nComponents wrt (x\\u0304,y\\u0304):\")\n", 
        "e = Matrix([1,0])\n", 
        "et = e.transpose()\n", 
        "S = R*S*R.transpose()\n", 
        "\n", 
        "pprint(\"\\ne:\")\n", 
        "tmp = e\n", 
        "pprint(tmp)\n", 
        "pprint(\"\\net:\")\n", 
        "tmp = et\n", 
        "pprint(tmp)\n", 
        "pprint(\"\\nS:\")\n", 
        "tmp = S\n", 
        "pprint(tmp)\n", 
        "\n", 
        "pprint(\"\\n\u03c3:\")\n", 
        "tmp = et*S*e\n", 
        "pprint(tmp)\n"
      ], 
      "cell_type": "code", 
      "execution_count": null, 
      "outputs": [], 
      "metadata": {}
    }
  ], 
  "metadata": {
    "kernelspec": {
      "display_name": "Python 3", 
      "name": "python3", 
      "language": "python"
    }, 
    "language_info": {
      "mimetype": "text/x-python", 
      "nbconvert_exporter": "python", 
      "name": "python", 
      "file_extension": ".py", 
      "version": "3.6.1", 
      "pygments_lexer": "ipython3", 
      "codemirror_mode": {
        "version": 3, 
        "name": "ipython"
      }
    }, 
    "anaconda-cloud": {}
  }
}