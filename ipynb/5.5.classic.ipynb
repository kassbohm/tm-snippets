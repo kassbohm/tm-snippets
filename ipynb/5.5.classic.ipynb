{
  "nbformat_minor": 1, 
  "nbformat": 4, 
  "cells": [
    {
      "source": [
        "from sympy.physics.units import *\n", 
        "from sympy import *\n", 
        "\n", 
        "newton = kg*m/s**2\n", 
        "pascal = newton/m**2\n", 
        "kilo = 1000\n", 
        "mega = 1000*1000\n", 
        "mm = m / 1000\n", 
        "MPa = mega*pascal\n", 
        "\n", 
        "# Symbols:\n", 
        "F, E, A, l = var(\"F, E, A, l\")\n", 
        "\n", 
        "# Quantities:\n", 
        "sub_list = [\n", 
        "    (F, 5*kilo*newton),\n", 
        "    (E, 200*1000 *MPa),\n", 
        "    (A, 25 *mm**2),\n", 
        "    (l, 1707 *mm),\n", 
        "    ]\n", 
        "\n", 
        "c = sqrt(2)/2\n", 
        "EA = E*A\n", 
        "S1, S2, dl1, dl2, u = var(\"S1, S2, dl1, dl2, u\")\n", 
        "\n", 
        "eq1 = Eq( F/2 + S2 + S1*c )\n", 
        "eq2 = Eq( S1, EA*dl1 / (sqrt(2)*l) )\n", 
        "eq3 = Eq( S2, EA*dl2/l )\n", 
        "eq4 = Eq(dl1, -u*c)\n", 
        "eq5 = Eq(dl2, -u)\n", 
        "\n", 
        "eqns = [eq1, eq2, eq3, eq4, eq5]\n", 
        "unks = [S1, S2, dl1, dl2, u]\n", 
        "sol = solve(eqns, unks)\n", 
        "pprint(sol)\n", 
        "\n", 
        "u = sol[u]\n", 
        "u = u.subs(sub_list)\n", 
        "\n", 
        "pprint(\"\\nu / mm:\")\n", 
        "tmp = u\n", 
        "tmp /= mm\n", 
        "pprint(N(tmp, 3))\n", 
        "\n", 
        "# \u23a7      2\u22c5F   \u221a2\u22c5F        4\u22c5F   \u221a2\u22c5F         -\u221a2\u22c5F\u22c5l            -2\u22c5F\u22c5l            2\u22c5F\u22c5l    \u23ab\n", 
        "# \u23a8S\u2081: - \u2500\u2500\u2500 + \u2500\u2500\u2500\u2500, S\u2082: - \u2500\u2500\u2500 + \u2500\u2500\u2500\u2500, dl\u2081: \u2500\u2500\u2500\u2500\u2500\u2500\u2500\u2500\u2500\u2500\u2500\u2500, dl\u2082: \u2500\u2500\u2500\u2500\u2500\u2500\u2500\u2500\u2500\u2500\u2500\u2500, u: \u2500\u2500\u2500\u2500\u2500\u2500\u2500\u2500\u2500\u2500\u2500\u2500\u23ac\n", 
        "# \u23a9       7     14          7     7         A\u22c5E\u22c5(\u221a2 + 4)       A\u22c5E\u22c5(\u221a2 + 4)     A\u22c5E\u22c5(\u221a2 + 4)\u23ad\n", 
        "#\n", 
        "# u / mm:\n", 
        "# 0.631\n"
      ], 
      "cell_type": "code", 
      "execution_count": null, 
      "outputs": [], 
      "metadata": {}
    }
  ], 
  "metadata": {
    "kernelspec": {
      "display_name": "Python 3", 
      "name": "python3", 
      "language": "python"
    }, 
    "language_info": {
      "mimetype": "text/x-python", 
      "nbconvert_exporter": "python", 
      "name": "python", 
      "file_extension": ".py", 
      "version": "3.6.1", 
      "pygments_lexer": "ipython3", 
      "codemirror_mode": {
        "version": 3, 
        "name": "ipython"
      }
    }, 
    "anaconda-cloud": {}
  }
}