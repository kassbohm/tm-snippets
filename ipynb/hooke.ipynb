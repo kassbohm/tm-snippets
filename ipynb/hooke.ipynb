{
  "nbformat_minor": 1, 
  "nbformat": 4, 
  "cells": [
    {
      "source": [
        "E, v = var(\"E, v\")\n", 
        "\n", 
        "pprint(\"\\n2D:\")\n", 
        "S = Matrix([\n", 
        "    [ 1/E, -v/E, 0],\n", 
        "    [-v/E,  1/E, 0],\n", 
        "    [   0,    0, (1+v)/E],\n", 
        "])\n", 
        "pprint(\"\\nCompliance-Matrix:\")\n", 
        "pprint(S)\n", 
        "\n", 
        "pprint(\"\\nStiffness-Matrix:\")\n", 
        "C = S.inv()\n", 
        "C = C.applyfunc(simplify)\n", 
        "pprint(C)\n", 
        "\n", 
        "S = Matrix([\n", 
        "    [ 1/E, -v/E, 0],\n", 
        "    [-v/E,  1/E, 0],\n", 
        "    [   0,    0, (1+v)/E],\n", 
        "])\n", 
        "\n", 
        "pprint(\"\\n3D:\")\n", 
        "S = Matrix([\n", 
        "    [ 1/E,  -v/E, -v/E, 0, 0, 0],\n", 
        "    [-v/E,   1/E, -v/E, 0, 0, 0],\n", 
        "    [-v/E,  -v/E,  1/E, 0, 0, 0],\n", 
        "    [   0,     0,    0, (1+v)/E,       0,       0],\n", 
        "    [   0,     0,    0,       0, (1+v)/E,       0],\n", 
        "    [   0,     0,    0,       0,       0, (1+v)/E],\n", 
        "])\n", 
        "pprint(\"\\nCompliance-Matrix:\")\n", 
        "pprint(S)\n", 
        "\n", 
        "pprint(\"\\nStiffness-Matrix:\")\n", 
        "C = S.inv()\n", 
        "C = C.applyfunc(simplify)\n", 
        "pprint(C)\n"
      ], 
      "cell_type": "code", 
      "execution_count": null, 
      "outputs": [], 
      "metadata": {}
    }
  ], 
  "metadata": {
    "kernelspec": {
      "display_name": "Python 3", 
      "name": "python3", 
      "language": "python"
    }, 
    "language_info": {
      "mimetype": "text/x-python", 
      "nbconvert_exporter": "python", 
      "name": "python", 
      "file_extension": ".py", 
      "version": "3.6.1", 
      "pygments_lexer": "ipython3", 
      "codemirror_mode": {
        "version": 3, 
        "name": "ipython"
      }
    }, 
    "anaconda-cloud": {}
  }
}