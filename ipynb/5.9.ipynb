{
  "nbformat_minor": 1, 
  "nbformat": 4, 
  "cells": [
    {
      "source": [
        "from sympy.physics.units import *\n", 
        "from sympy import *\n", 
        "\n", 
        "newton = kg*m/s**2\n", 
        "\n", 
        "EI = 1 *newton*m**2\n", 
        "l = 1 *m\n", 
        "l2 = l*l\n", 
        "\n", 
        "K = EI/l**3\n", 
        "K *= Matrix([\n", 
        "[  18 ,  6*l, -3*l  ],\n", 
        "[  6*l, 4*l2,  0    ],\n", 
        "[ -3*l,   0,  2*l2  ],\n", 
        "])\n", 
        "\n", 
        "pprint(\"\\nStiffness matrix / N:\")\n", 
        "pprint(K/newton)\n", 
        "\n", 
        "w2, p2m, p2p = var(\"w2, p2m, p2p\")\n", 
        "u = Matrix([w2, p2m, p2p])\n", 
        "f = Matrix([1*newton,0,0])\n", 
        "\n", 
        "\n", 
        "eq = Eq(K*u , f)\n", 
        "sol = solve(eq, [w2, p2m, p2p])\n", 
        "\n", 
        "pprint(\"\\nSolution:\")\n", 
        "pprint(sol)\n", 
        "\n", 
        "# Stiffness matrix / N:\n", 
        "# \u23a118          \u23a4\n", 
        "# \u23a2\u2500\u2500   6   -3 \u23a5\n", 
        "# \u23a2m           \u23a5\n", 
        "# \u23a2            \u23a5\n", 
        "# \u23a26   4\u22c5m   0 \u23a5\n", 
        "# \u23a2            \u23a5\n", 
        "# \u23a3-3   0   2\u22c5m\u23a6\n", 
        "#\n", 
        "# Solution:\n", 
        "# \u23a7                         2\u22c5m\u23ab\n", 
        "# \u23a8p2m: -1/3, p2p: 1/3, w\u2082: \u2500\u2500\u2500\u23ac\n", 
        "# \u23a9                          9 \u23ad\n"
      ], 
      "cell_type": "code", 
      "execution_count": null, 
      "outputs": [], 
      "metadata": {}
    }
  ], 
  "metadata": {
    "kernelspec": {
      "display_name": "Python 3", 
      "name": "python3", 
      "language": "python"
    }, 
    "language_info": {
      "mimetype": "text/x-python", 
      "nbconvert_exporter": "python", 
      "name": "python", 
      "file_extension": ".py", 
      "version": "3.6.1", 
      "pygments_lexer": "ipython3", 
      "codemirror_mode": {
        "version": 3, 
        "name": "ipython"
      }
    }, 
    "anaconda-cloud": {}
  }
}