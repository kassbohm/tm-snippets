{
  "nbformat_minor": 1, 
  "nbformat": 4, 
  "cells": [
    {
      "source": [
        "from sympy.physics.units import *\n", 
        "from sympy import *\n", 
        "\n", 
        "c = var(\"c\")\n", 
        "\n", 
        "K = Matrix([\n", 
        "    [ 2*c , -c ],\n", 
        "    [  -c ,  c ]\n", 
        "    ])\n", 
        "\n", 
        "M, p2, p3 = var(\"M, p2, p3\")\n", 
        "u = Matrix([p2, p3 ])\n", 
        "f = Matrix([0, M ])\n", 
        "\n", 
        "eq = Eq(K*u , f)\n", 
        "sol = solve(eq, [p2, p3])\n", 
        "pprint(\"\\nSolution:\")\n", 
        "pprint(sol)\n", 
        "\n", 
        "# Solution:\n", 
        "# \u23a7    M      2\u22c5M\u23ab\n", 
        "# \u23a8p\u2082: \u2500, p\u2083: \u2500\u2500\u2500\u23ac\n", 
        "# \u23a9    c       c \u23ad\n"
      ], 
      "cell_type": "code", 
      "execution_count": null, 
      "outputs": [], 
      "metadata": {}
    }
  ], 
  "metadata": {
    "kernelspec": {
      "display_name": "Python 3", 
      "name": "python3", 
      "language": "python"
    }, 
    "language_info": {
      "mimetype": "text/x-python", 
      "nbconvert_exporter": "python", 
      "name": "python", 
      "file_extension": ".py", 
      "version": "3.6.1", 
      "pygments_lexer": "ipython3", 
      "codemirror_mode": {
        "version": 3, 
        "name": "ipython"
      }
    }, 
    "anaconda-cloud": {}
  }
}