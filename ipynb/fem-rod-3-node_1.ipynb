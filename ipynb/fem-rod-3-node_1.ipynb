{
  "nbformat_minor": 1, 
  "nbformat": 4, 
  "cells": [
    {
      "source": [
        "from sympy.physics.units import *\n", 
        "from sympy import *\n", 
        "from numpy import linspace, array\n", 
        "\n", 
        "l, E, A, q = var(\"l, E, A, q\")\n", 
        "\n", 
        "x = var(\"x\")\n", 
        "\n", 
        "S = q*(l-x)\n", 
        "sigma = S/A\n", 
        "\n", 
        "pprint(\"\\nu1:\")\n", 
        "u1 = 1/E * integrate(sigma, (x, 0, l/2))\n", 
        "tmp = u1\n", 
        "pprint(tmp)\n", 
        "\n", 
        "pprint(\"\\nu2:\")\n", 
        "u2 = 1/E * integrate(sigma, (x, 0, l))\n", 
        "tmp = u2\n", 
        "pprint(tmp)\n", 
        "\n", 
        "# u1:\n", 
        "#    2\n", 
        "# 3\u22c5l \u22c5q\n", 
        "# \u2500\u2500\u2500\u2500\u2500\u2500\n", 
        "# 8\u22c5A\u22c5E\n", 
        "#\n", 
        "# u2:\n", 
        "#   2\n", 
        "#  l \u22c5q\n", 
        "# \u2500\u2500\u2500\u2500\u2500\n", 
        "# 2\u22c5A\u22c5E\n"
      ], 
      "cell_type": "code", 
      "execution_count": null, 
      "outputs": [], 
      "metadata": {}
    }
  ], 
  "metadata": {
    "kernelspec": {
      "display_name": "Python 3", 
      "name": "python3", 
      "language": "python"
    }, 
    "language_info": {
      "mimetype": "text/x-python", 
      "nbconvert_exporter": "python", 
      "name": "python", 
      "file_extension": ".py", 
      "version": "3.6.1", 
      "pygments_lexer": "ipython3", 
      "codemirror_mode": {
        "version": 3, 
        "name": "ipython"
      }
    }, 
    "anaconda-cloud": {}
  }
}